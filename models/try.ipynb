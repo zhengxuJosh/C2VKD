{
 "cells": [
  {
   "cell_type": "code",
   "execution_count": 3,
   "metadata": {},
   "outputs": [
    {
     "name": "stdout",
     "output_type": "stream",
     "text": [
      "1.11.0\n",
      "[INFO] Register count_convNd() for <class 'torch.nn.modules.conv.Conv2d'>.\n",
      "[INFO] Register count_bn() for <class 'torch.nn.modules.batchnorm.BatchNorm2d'>.\n",
      "\u001b[91m[WARN] Cannot find rule for <class 'torch.nn.modules.normalization.LayerNorm'>. Treat it as zero Macs and zero Params.\u001b[00m\n",
      "\u001b[91m[WARN] Cannot find rule for <class 'pvt_v2.pvt_v2.OverlapPatchEmbed'>. Treat it as zero Macs and zero Params.\u001b[00m\n",
      "[INFO] Register count_linear() for <class 'torch.nn.modules.linear.Linear'>.\n",
      "[INFO] Register zero_ops() for <class 'torch.nn.modules.dropout.Dropout'>.\n",
      "\u001b[91m[WARN] Cannot find rule for <class 'pvt_v2.pvt_v2.Attention'>. Treat it as zero Macs and zero Params.\u001b[00m\n",
      "\u001b[91m[WARN] Cannot find rule for <class 'torch.nn.modules.linear.Identity'>. Treat it as zero Macs and zero Params.\u001b[00m\n",
      "\u001b[91m[WARN] Cannot find rule for <class 'pvt_v2.pvt_v2.DWConv'>. Treat it as zero Macs and zero Params.\u001b[00m\n",
      "\u001b[91m[WARN] Cannot find rule for <class 'torch.nn.modules.activation.GELU'>. Treat it as zero Macs and zero Params.\u001b[00m\n",
      "\u001b[91m[WARN] Cannot find rule for <class 'pvt_v2.pvt_v2.Mlp'>. Treat it as zero Macs and zero Params.\u001b[00m\n",
      "\u001b[91m[WARN] Cannot find rule for <class 'pvt_v2.pvt_v2.Block'>. Treat it as zero Macs and zero Params.\u001b[00m\n",
      "\u001b[91m[WARN] Cannot find rule for <class 'timm.models.layers.drop.DropPath'>. Treat it as zero Macs and zero Params.\u001b[00m\n",
      "\u001b[91m[WARN] Cannot find rule for <class 'torch.nn.modules.container.ModuleList'>. Treat it as zero Macs and zero Params.\u001b[00m\n",
      "\u001b[91m[WARN] Cannot find rule for <class 'pvt_v2.pvt_v2.pvt_v2_b0'>. Treat it as zero Macs and zero Params.\u001b[00m\n",
      "\u001b[91m[WARN] Cannot find rule for <class 'torch.nn.modules.normalization.GroupNorm'>. Treat it as zero Macs and zero Params.\u001b[00m\n",
      "\u001b[91m[WARN] Cannot find rule for <class 'pvt_v2.FPN.FPN'>. Treat it as zero Macs and zero Params.\u001b[00m\n",
      "FLOPs = 3.420028928G\n",
      "Params = 3.461077M\n"
     ]
    }
   ],
   "source": [
    "from pvt.pvt import pvt_tiny, pvt_small\n",
    "import torch\n",
    "# from pvt.FPN import FPN\n",
    "from pvt_v2.FPN import FPN\n",
    "from thop import profile\n",
    "import torchvision.models as models\n",
    "from deeplabv3plus.deeplabv3plus import DeepLabv3Plus\n",
    "print(torch.__version__)\n",
    "img = torch.randn(1,3,512,512)\n",
    "#model=pvt_small()\n",
    "model = FPN(num_classes=21)\n",
    "# backbone = models.resnet34()\n",
    "# model = DeepLabv3Plus(backbone)\n",
    "flops, params = profile(model, inputs=(img, ))\n",
    "print('FLOPs = ' + str(flops/1000**3) + 'G')\n",
    "print('Params = ' + str(params/1000**2) + 'M')"
   ]
  },
  {
   "cell_type": "code",
   "execution_count": 1,
   "metadata": {},
   "outputs": [
    {
     "name": "stdout",
     "output_type": "stream",
     "text": [
      "torch.Size([2, 256, 32, 32])\n",
      "torch.Size([2, 256, 32, 32])\n"
     ]
    }
   ],
   "source": [
    "from pvt.pvt import pvt_tiny, pvt_small\n",
    "from pvt_v2.pvt_v2 import pvt_v2_b0\n",
    "from pvt_v2.FPN import FPN # [2, 256, 16, 16]\n",
    "import torch\n",
    "# from pvt.FPN import FPN # [2, 512, 16, 16]\n",
    "from thop import profile\n",
    "import torchvision.models as models\n",
    "from deeplabv3plus.deeplabv3plus import DeepLabv3Plus # [2, 256, 32, 32]\n",
    "backbone = models.resnet101()\n",
    "model2 = DeepLabv3Plus(backbone)\n",
    "\n",
    "img = torch.randn(2,3,512,512)\n",
    "model = FPN(num_classes=21)\n",
    "output_vit, feature_vit = model(img) \n",
    "print(feature_vit.size())\n",
    "\n",
    "output_cnn, feature_cnn = model2(img)\n",
    "print(feature_cnn.size())"
   ]
  }
 ],
 "metadata": {
  "interpreter": {
   "hash": "16e55c2a362a3059b0c0d4fe95b2fac0ee78f999e3b08679079e76a7a5ceca57"
  },
  "kernelspec": {
   "display_name": "Python 3.8.11 ('SSL': conda)",
   "language": "python",
   "name": "python3"
  },
  "language_info": {
   "codemirror_mode": {
    "name": "ipython",
    "version": 3
   },
   "file_extension": ".py",
   "mimetype": "text/x-python",
   "name": "python",
   "nbconvert_exporter": "python",
   "pygments_lexer": "ipython3",
   "version": "3.8.11"
  },
  "orig_nbformat": 4
 },
 "nbformat": 4,
 "nbformat_minor": 2
}
